{
 "cells": [
  {
   "cell_type": "code",
   "execution_count": 1,
   "metadata": {
    "colab": {
     "base_uri": "https://localhost:8080/"
    },
    "executionInfo": {
     "elapsed": 32490,
     "status": "ok",
     "timestamp": 1624156910785,
     "user": {
      "displayName": "中川恵太",
      "photoUrl": "https://lh3.googleusercontent.com/a-/AOh14GjuadBfe9VQaUTNNPiP_FWM2wUVyahBPjQ7KHtx=s64",
      "userId": "12304208339806120148"
     },
     "user_tz": -540
    },
    "id": "f9MQ68goSqk7",
    "outputId": "e4dd08bf-e382-4a86-d3db-6627f0866bfa"
   },
   "outputs": [
    {
     "ename": "ModuleNotFoundError",
     "evalue": "No module named 'google'",
     "output_type": "error",
     "traceback": [
      "\u001b[0;31m---------------------------------------------------------------------------\u001b[0m",
      "\u001b[0;31mModuleNotFoundError\u001b[0m                       Traceback (most recent call last)",
      "\u001b[0;32m<ipython-input-1-d5df0069828e>\u001b[0m in \u001b[0;36m<module>\u001b[0;34m\u001b[0m\n\u001b[0;32m----> 1\u001b[0;31m \u001b[0;32mfrom\u001b[0m \u001b[0mgoogle\u001b[0m\u001b[0;34m.\u001b[0m\u001b[0mcolab\u001b[0m \u001b[0;32mimport\u001b[0m \u001b[0mdrive\u001b[0m\u001b[0;34m\u001b[0m\u001b[0m\n\u001b[0m\u001b[1;32m      2\u001b[0m \u001b[0mdrive\u001b[0m\u001b[0;34m.\u001b[0m\u001b[0mmount\u001b[0m\u001b[0;34m(\u001b[0m\u001b[0;34m'/content/drive'\u001b[0m\u001b[0;34m)\u001b[0m\u001b[0;34m\u001b[0m\u001b[0m\n",
      "\u001b[0;31mModuleNotFoundError\u001b[0m: No module named 'google'"
     ]
    }
   ],
   "source": [
    "from google.colab import drive\n",
    "drive.mount('/content/drive')"
   ]
  },
  {
   "cell_type": "code",
   "execution_count": 3,
   "metadata": {
    "executionInfo": {
     "elapsed": 671,
     "status": "ok",
     "timestamp": 1624156832860,
     "user": {
      "displayName": "中川恵太",
      "photoUrl": "https://lh3.googleusercontent.com/a-/AOh14GjuadBfe9VQaUTNNPiP_FWM2wUVyahBPjQ7KHtx=s64",
      "userId": "12304208339806120148"
     },
     "user_tz": -540
    },
    "id": "eEQjnmd8SL2Z"
   },
   "outputs": [],
   "source": [
    "import numpy as np\n",
    "import pandas as pd\n",
    "import matplotlib.pyplot as plt\n",
    "from matplotlib import animation\n",
    "import random\n",
    "import seaborn as sns\n",
    "\n",
    "%matplotlib inline\n",
    "from IPython.display import HTML\n"
   ]
  },
  {
   "cell_type": "code",
   "execution_count": 4,
   "metadata": {
    "colab": {
     "base_uri": "https://localhost:8080/",
     "height": 473
    },
    "executionInfo": {
     "elapsed": 600,
     "status": "ok",
     "timestamp": 1624156934747,
     "user": {
      "displayName": "中川恵太",
      "photoUrl": "https://lh3.googleusercontent.com/a-/AOh14GjuadBfe9VQaUTNNPiP_FWM2wUVyahBPjQ7KHtx=s64",
      "userId": "12304208339806120148"
     },
     "user_tz": -540
    },
    "id": "6WPFuKnQSL2b",
    "outputId": "8e21fadb-283e-4c14-fb05-f1c8e0d761e9"
   },
   "outputs": [
    {
     "ename": "FileNotFoundError",
     "evalue": "[Errno 2] File /content/drive/MyDrive/動作分析法/RunningDigitize/running_digitizeddata.csv does not exist: '/content/drive/MyDrive/動作分析法/RunningDigitize/running_digitizeddata.csv'",
     "output_type": "error",
     "traceback": [
      "\u001b[0;31m---------------------------------------------------------------------------\u001b[0m",
      "\u001b[0;31mFileNotFoundError\u001b[0m                         Traceback (most recent call last)",
      "\u001b[0;32m<ipython-input-4-f98d02776870>\u001b[0m in \u001b[0;36m<module>\u001b[0;34m\u001b[0m\n\u001b[0;32m----> 1\u001b[0;31m \u001b[0mdata\u001b[0m \u001b[0;34m=\u001b[0m \u001b[0mpd\u001b[0m\u001b[0;34m.\u001b[0m\u001b[0mread_csv\u001b[0m\u001b[0;34m(\u001b[0m\u001b[0;34m'/content/drive/MyDrive/動作分析法/RunningDigitize/running_digitizeddata.csv'\u001b[0m\u001b[0;34m)\u001b[0m\u001b[0;34m\u001b[0m\u001b[0m\n\u001b[0m\u001b[1;32m      2\u001b[0m \u001b[0mdata\u001b[0m\u001b[0;34m\u001b[0m\u001b[0m\n",
      "\u001b[0;32m~/lib/python3.6/site-packages/pandas/io/parsers.py\u001b[0m in \u001b[0;36mparser_f\u001b[0;34m(filepath_or_buffer, sep, delimiter, header, names, index_col, usecols, squeeze, prefix, mangle_dupe_cols, dtype, engine, converters, true_values, false_values, skipinitialspace, skiprows, skipfooter, nrows, na_values, keep_default_na, na_filter, verbose, skip_blank_lines, parse_dates, infer_datetime_format, keep_date_col, date_parser, dayfirst, cache_dates, iterator, chunksize, compression, thousands, decimal, lineterminator, quotechar, quoting, doublequote, escapechar, comment, encoding, dialect, error_bad_lines, warn_bad_lines, delim_whitespace, low_memory, memory_map, float_precision)\u001b[0m\n\u001b[1;32m    674\u001b[0m         )\n\u001b[1;32m    675\u001b[0m \u001b[0;34m\u001b[0m\u001b[0m\n\u001b[0;32m--> 676\u001b[0;31m         \u001b[0;32mreturn\u001b[0m \u001b[0m_read\u001b[0m\u001b[0;34m(\u001b[0m\u001b[0mfilepath_or_buffer\u001b[0m\u001b[0;34m,\u001b[0m \u001b[0mkwds\u001b[0m\u001b[0;34m)\u001b[0m\u001b[0;34m\u001b[0m\u001b[0m\n\u001b[0m\u001b[1;32m    677\u001b[0m \u001b[0;34m\u001b[0m\u001b[0m\n\u001b[1;32m    678\u001b[0m     \u001b[0mparser_f\u001b[0m\u001b[0;34m.\u001b[0m\u001b[0m__name__\u001b[0m \u001b[0;34m=\u001b[0m \u001b[0mname\u001b[0m\u001b[0;34m\u001b[0m\u001b[0m\n",
      "\u001b[0;32m~/lib/python3.6/site-packages/pandas/io/parsers.py\u001b[0m in \u001b[0;36m_read\u001b[0;34m(filepath_or_buffer, kwds)\u001b[0m\n\u001b[1;32m    446\u001b[0m \u001b[0;34m\u001b[0m\u001b[0m\n\u001b[1;32m    447\u001b[0m     \u001b[0;31m# Create the parser.\u001b[0m\u001b[0;34m\u001b[0m\u001b[0;34m\u001b[0m\u001b[0m\n\u001b[0;32m--> 448\u001b[0;31m     \u001b[0mparser\u001b[0m \u001b[0;34m=\u001b[0m \u001b[0mTextFileReader\u001b[0m\u001b[0;34m(\u001b[0m\u001b[0mfp_or_buf\u001b[0m\u001b[0;34m,\u001b[0m \u001b[0;34m**\u001b[0m\u001b[0mkwds\u001b[0m\u001b[0;34m)\u001b[0m\u001b[0;34m\u001b[0m\u001b[0m\n\u001b[0m\u001b[1;32m    449\u001b[0m \u001b[0;34m\u001b[0m\u001b[0m\n\u001b[1;32m    450\u001b[0m     \u001b[0;32mif\u001b[0m \u001b[0mchunksize\u001b[0m \u001b[0;32mor\u001b[0m \u001b[0miterator\u001b[0m\u001b[0;34m:\u001b[0m\u001b[0;34m\u001b[0m\u001b[0m\n",
      "\u001b[0;32m~/lib/python3.6/site-packages/pandas/io/parsers.py\u001b[0m in \u001b[0;36m__init__\u001b[0;34m(self, f, engine, **kwds)\u001b[0m\n\u001b[1;32m    878\u001b[0m             \u001b[0mself\u001b[0m\u001b[0;34m.\u001b[0m\u001b[0moptions\u001b[0m\u001b[0;34m[\u001b[0m\u001b[0;34m\"has_index_names\"\u001b[0m\u001b[0;34m]\u001b[0m \u001b[0;34m=\u001b[0m \u001b[0mkwds\u001b[0m\u001b[0;34m[\u001b[0m\u001b[0;34m\"has_index_names\"\u001b[0m\u001b[0;34m]\u001b[0m\u001b[0;34m\u001b[0m\u001b[0m\n\u001b[1;32m    879\u001b[0m \u001b[0;34m\u001b[0m\u001b[0m\n\u001b[0;32m--> 880\u001b[0;31m         \u001b[0mself\u001b[0m\u001b[0;34m.\u001b[0m\u001b[0m_make_engine\u001b[0m\u001b[0;34m(\u001b[0m\u001b[0mself\u001b[0m\u001b[0;34m.\u001b[0m\u001b[0mengine\u001b[0m\u001b[0;34m)\u001b[0m\u001b[0;34m\u001b[0m\u001b[0m\n\u001b[0m\u001b[1;32m    881\u001b[0m \u001b[0;34m\u001b[0m\u001b[0m\n\u001b[1;32m    882\u001b[0m     \u001b[0;32mdef\u001b[0m \u001b[0mclose\u001b[0m\u001b[0;34m(\u001b[0m\u001b[0mself\u001b[0m\u001b[0;34m)\u001b[0m\u001b[0;34m:\u001b[0m\u001b[0;34m\u001b[0m\u001b[0m\n",
      "\u001b[0;32m~/lib/python3.6/site-packages/pandas/io/parsers.py\u001b[0m in \u001b[0;36m_make_engine\u001b[0;34m(self, engine)\u001b[0m\n\u001b[1;32m   1112\u001b[0m     \u001b[0;32mdef\u001b[0m \u001b[0m_make_engine\u001b[0m\u001b[0;34m(\u001b[0m\u001b[0mself\u001b[0m\u001b[0;34m,\u001b[0m \u001b[0mengine\u001b[0m\u001b[0;34m=\u001b[0m\u001b[0;34m\"c\"\u001b[0m\u001b[0;34m)\u001b[0m\u001b[0;34m:\u001b[0m\u001b[0;34m\u001b[0m\u001b[0m\n\u001b[1;32m   1113\u001b[0m         \u001b[0;32mif\u001b[0m \u001b[0mengine\u001b[0m \u001b[0;34m==\u001b[0m \u001b[0;34m\"c\"\u001b[0m\u001b[0;34m:\u001b[0m\u001b[0;34m\u001b[0m\u001b[0m\n\u001b[0;32m-> 1114\u001b[0;31m             \u001b[0mself\u001b[0m\u001b[0;34m.\u001b[0m\u001b[0m_engine\u001b[0m \u001b[0;34m=\u001b[0m \u001b[0mCParserWrapper\u001b[0m\u001b[0;34m(\u001b[0m\u001b[0mself\u001b[0m\u001b[0;34m.\u001b[0m\u001b[0mf\u001b[0m\u001b[0;34m,\u001b[0m \u001b[0;34m**\u001b[0m\u001b[0mself\u001b[0m\u001b[0;34m.\u001b[0m\u001b[0moptions\u001b[0m\u001b[0;34m)\u001b[0m\u001b[0;34m\u001b[0m\u001b[0m\n\u001b[0m\u001b[1;32m   1115\u001b[0m         \u001b[0;32melse\u001b[0m\u001b[0;34m:\u001b[0m\u001b[0;34m\u001b[0m\u001b[0m\n\u001b[1;32m   1116\u001b[0m             \u001b[0;32mif\u001b[0m \u001b[0mengine\u001b[0m \u001b[0;34m==\u001b[0m \u001b[0;34m\"python\"\u001b[0m\u001b[0;34m:\u001b[0m\u001b[0;34m\u001b[0m\u001b[0m\n",
      "\u001b[0;32m~/lib/python3.6/site-packages/pandas/io/parsers.py\u001b[0m in \u001b[0;36m__init__\u001b[0;34m(self, src, **kwds)\u001b[0m\n\u001b[1;32m   1889\u001b[0m         \u001b[0mkwds\u001b[0m\u001b[0;34m[\u001b[0m\u001b[0;34m\"usecols\"\u001b[0m\u001b[0;34m]\u001b[0m \u001b[0;34m=\u001b[0m \u001b[0mself\u001b[0m\u001b[0;34m.\u001b[0m\u001b[0musecols\u001b[0m\u001b[0;34m\u001b[0m\u001b[0m\n\u001b[1;32m   1890\u001b[0m \u001b[0;34m\u001b[0m\u001b[0m\n\u001b[0;32m-> 1891\u001b[0;31m         \u001b[0mself\u001b[0m\u001b[0;34m.\u001b[0m\u001b[0m_reader\u001b[0m \u001b[0;34m=\u001b[0m \u001b[0mparsers\u001b[0m\u001b[0;34m.\u001b[0m\u001b[0mTextReader\u001b[0m\u001b[0;34m(\u001b[0m\u001b[0msrc\u001b[0m\u001b[0;34m,\u001b[0m \u001b[0;34m**\u001b[0m\u001b[0mkwds\u001b[0m\u001b[0;34m)\u001b[0m\u001b[0;34m\u001b[0m\u001b[0m\n\u001b[0m\u001b[1;32m   1892\u001b[0m         \u001b[0mself\u001b[0m\u001b[0;34m.\u001b[0m\u001b[0munnamed_cols\u001b[0m \u001b[0;34m=\u001b[0m \u001b[0mself\u001b[0m\u001b[0;34m.\u001b[0m\u001b[0m_reader\u001b[0m\u001b[0;34m.\u001b[0m\u001b[0munnamed_cols\u001b[0m\u001b[0;34m\u001b[0m\u001b[0m\n\u001b[1;32m   1893\u001b[0m \u001b[0;34m\u001b[0m\u001b[0m\n",
      "\u001b[0;32mpandas/_libs/parsers.pyx\u001b[0m in \u001b[0;36mpandas._libs.parsers.TextReader.__cinit__\u001b[0;34m()\u001b[0m\n",
      "\u001b[0;32mpandas/_libs/parsers.pyx\u001b[0m in \u001b[0;36mpandas._libs.parsers.TextReader._setup_parser_source\u001b[0;34m()\u001b[0m\n",
      "\u001b[0;31mFileNotFoundError\u001b[0m: [Errno 2] File /content/drive/MyDrive/動作分析法/RunningDigitize/running_digitizeddata.csv does not exist: '/content/drive/MyDrive/動作分析法/RunningDigitize/running_digitizeddata.csv'"
     ]
    }
   ],
   "source": [
    "data = pd.read_csv('/content/drive/MyDrive/動作分析法/RunningDigitize/running_digitizeddata.csv')\n",
    "data"
   ]
  },
  {
   "cell_type": "code",
   "execution_count": 6,
   "metadata": {
    "colab": {
     "base_uri": "https://localhost:8080/"
    },
    "executionInfo": {
     "elapsed": 245,
     "status": "ok",
     "timestamp": 1624156937762,
     "user": {
      "displayName": "中川恵太",
      "photoUrl": "https://lh3.googleusercontent.com/a-/AOh14GjuadBfe9VQaUTNNPiP_FWM2wUVyahBPjQ7KHtx=s64",
      "userId": "12304208339806120148"
     },
     "user_tz": -540
    },
    "id": "jjNvQ4bFSL2d",
    "outputId": "11989073-bcfc-48d6-8f86-f1cd67daac57"
   },
   "outputs": [
    {
     "name": "stdout",
     "output_type": "stream",
     "text": [
      "Index(['time', '左大転子:X', '左大転子:Y', '右大転子:X', '右大転子:Y', '右膝:X', '右膝:Y', '右踵:X',\n",
      "       '右踵:Y', '右爪先:X', '右爪先:Y', '左膝:X', '左膝:Y', '左踵:X', '左踵:Y', '左肩:X',\n",
      "       '左肩:Y', '左肘:X', '左肘:Y', '左手首:X', '左手首:Y', '左手先:X', '左手先:Y', '胸骨:X',\n",
      "       '胸骨:Y', '頭部:X', '頭部:Y', '右肩:X', '右肩:Y', '右肘:X', '右肘:Y', '右手首:X',\n",
      "       '右手首:Y', '右手先:X', '右手先:Y', '左爪先:X', '左爪先:Y', '胴部:X', '胴部:Y'],\n",
      "      dtype='object')\n",
      "39\n"
     ]
    }
   ],
   "source": [
    "data.columns\n",
    "print(data.columns)\n",
    "print(len(data.columns))"
   ]
  },
  {
   "cell_type": "markdown",
   "metadata": {
    "id": "Pp1ZEXX4SL2e"
   },
   "source": [
    "## 変数の意味\n",
    "\n",
    "- 大転子 -> daitensi\n",
    "- 膝 -> knee\n",
    "- 踵 -> heel\n",
    "- つま先 -> toe\n",
    "- 肩 -> shoulder\n",
    "- 肘 -> elbow\n",
    "- 手首 -> wrist\n",
    "- 胸骨 -> chest\n",
    "- 頭部 -> head\n",
    "- 手先 -> hand\n",
    "- 胴部 -> body\n",
    "\n"
   ]
  },
  {
   "cell_type": "markdown",
   "metadata": {
    "id": "-E-2eP4LSL2f"
   },
   "source": [
    "## とりあえず０秒で人を書いてみる\n",
    "\n",
    "\n",
    "\n",
    "\n",
    "\n"
   ]
  },
  {
   "cell_type": "code",
   "execution_count": null,
   "metadata": {
    "id": "LJvC0kRqSL2g"
   },
   "outputs": [],
   "source": [
    "#０秒時のデータ\n",
    "zero_sec = data.iloc[:1,:]"
   ]
  },
  {
   "cell_type": "code",
   "execution_count": 9,
   "metadata": {
    "executionInfo": {
     "elapsed": 359,
     "status": "ok",
     "timestamp": 1624156979183,
     "user": {
      "displayName": "中川恵太",
      "photoUrl": "https://lh3.googleusercontent.com/a-/AOh14GjuadBfe9VQaUTNNPiP_FWM2wUVyahBPjQ7KHtx=s64",
      "userId": "12304208339806120148"
     },
     "user_tz": -540
    },
    "id": "GpzlAXLsSL2g"
   },
   "outputs": [],
   "source": [
    "z_daitensi_l = np.array( [ data['左大転子:X'][0] , data['左大転子:Y'][0] ] )\n",
    "z_daitensi_r = np.array( [ data['右大転子:X'][0] , data['右大転子:Y'][0] ] )\n",
    "z_knee_r = np.array( [ data['右膝:X'][0] , data['右膝:Y'][0] ] )\n",
    "z_knee_l = np.array( [ data['左膝:X'][0] , data['左膝:Y'][0] ] )\n",
    "z_heel_r = np.array( [ data['右踵:X'][0] , data['右踵:Y'][0] ] )\n",
    "z_heel_l = np.array( [ data['左踵:X'][0] , data['左踵:Y'][0] ] )\n",
    "z_toe_r = np.array( [ data['右爪先:X'][0] , data['右爪先:Y'][0] ] )\n",
    "z_toe_l = np.array( [ data['左爪先:X'][0] , data['左爪先:Y'][0] ] )\n",
    "z_shoulder_r = np.array( [ data['右肩:X'][0] , data['右肩:Y'][0] ] )\n",
    "z_shoulder_l = np.array( [ data['左肩:X'][0] , data['左肩:Y'][0] ] )\n",
    "z_elbow_r = np.array( [ data['右肘:X'][0] , data['右肘:Y'][0] ] )\n",
    "z_elbow_l = np.array( [ data['左肘:X'][0] , data['左肘:Y'][0] ] )\n",
    "z_wrist_r = np.array( [ data['右手首:X'][0] , data['右手首:Y'][0] ] )\n",
    "z_wrist_l = np.array( [ data['左手首:X'][0] , data['左手首:Y'][0] ] )\n",
    "z_hand_r = np.array( [ data['右手先:X'][0] , data['右手先:Y'][0] ] )\n",
    "z_hand_l = np.array( [ data['左手先:X'][0] , data['左手先:Y'][0] ] )\n",
    "z_chest = np.array( [ data['胸骨:X'][0] , data['胸骨:Y'][0] ] )\n",
    "z_body = np.array( [ data['胴部:X'][0] , data['胴部:Y'][0] ] )\n",
    "z_head = np.array( [ data['頭部:X'][0] , data['頭部:Y'][0] ] )"
   ]
  },
  {
   "cell_type": "markdown",
   "metadata": {
    "id": "uANjVVoZSL2h"
   },
   "source": [
    "## 用語の説明\n",
    "- 首 -> neck\n",
    "    - head->chest\n",
    "- 上腕 -> upperArm\n",
    "    - shoulder->elbow\n",
    "- 前腕 -> formerArm\n",
    "    - elbow->wrist\n",
    "- 胴体 -> torso\n",
    "    - chest->body\n",
    "- 大腿 -> upperLeg\n",
    "    - daitensi->knee\n",
    "- 下腿 -> lowerLeg\n",
    "    - knee->heel\n",
    "- 手 -> hands\n",
    "    -> wrist->hand\n",
    "- 足 -> foot\n",
    "    - heel->toe\n"
   ]
  },
  {
   "cell_type": "code",
   "execution_count": 10,
   "metadata": {
    "executionInfo": {
     "elapsed": 239,
     "status": "ok",
     "timestamp": 1624156981496,
     "user": {
      "displayName": "中川恵太",
      "photoUrl": "https://lh3.googleusercontent.com/a-/AOh14GjuadBfe9VQaUTNNPiP_FWM2wUVyahBPjQ7KHtx=s64",
      "userId": "12304208339806120148"
     },
     "user_tz": -540
    },
    "id": "we75vQUvSL2i"
   },
   "outputs": [],
   "source": [
    "#各セグメントのベクトルを定義\n",
    "z_neck = np.array([z_head , z_chest])\n",
    "z_upperArm_r = np.array([z_shoulder_r , z_elbow_r])\n",
    "z_upperArm_l = np.array([z_shoulder_l , z_elbow_l])\n",
    "z_formerArm_r = np.array([z_elbow_r , z_wrist_r])\n",
    "z_formerArm_l = np.array([z_elbow_l ,z_wrist_l])\n",
    "z_torso = np.array([z_chest , z_daitensi_r])\n",
    "z_upperLeg_r = np.array([z_daitensi_r, z_knee_r])\n",
    "z_upperLeg_l = np.array([z_daitensi_l , z_knee_l])\n",
    "z_lowerLeg_r = np.array([z_knee_r, z_heel_r])\n",
    "z_lowerLeg_l = np.array([z_knee_l, z_heel_l])\n",
    "z_hands_r = np.array([z_wrist_r , z_hand_r])\n",
    "z_hands_l = np.array([z_wrist_l , z_hand_l])\n",
    "z_foot_r = np.array([z_heel_r , z_toe_r])\n",
    "z_foot_l = np.array([z_heel_l , z_toe_l])"
   ]
  },
  {
   "cell_type": "code",
   "execution_count": 11,
   "metadata": {
    "colab": {
     "base_uri": "https://localhost:8080/",
     "height": 487
    },
    "executionInfo": {
     "elapsed": 903,
     "status": "ok",
     "timestamp": 1624156988770,
     "user": {
      "displayName": "中川恵太",
      "photoUrl": "https://lh3.googleusercontent.com/a-/AOh14GjuadBfe9VQaUTNNPiP_FWM2wUVyahBPjQ7KHtx=s64",
      "userId": "12304208339806120148"
     },
     "user_tz": -540
    },
    "id": "9FNj4CJnSL2j",
    "outputId": "c9451036-34dc-4097-8800-564dfaeb8f00"
   },
   "outputs": [
    {
     "data": {
      "image/png": "[encoded data removed]",
      "text/plain": [
       "<Figure size 864x576 with 1 Axes>"
      ]
     },
     "metadata": {
      "needs_background": "light",
      "tags": []
     },
     "output_type": "display_data"
    }
   ],
   "source": [
    "fig , ax = plt.subplots(figsize=(12 ,8))\n",
    "x0,y0 = zip(*z_neck)\n",
    "x1,y1 = zip(*z_upperArm_r)\n",
    "x2,y2 = zip(*z_upperArm_l)\n",
    "x3,y3 = zip(*z_formerArm_r)\n",
    "x4,y4 = zip(*z_formerArm_l)\n",
    "x5,y5 = zip(*z_torso)\n",
    "x6,y6 = zip(*z_upperLeg_r)\n",
    "x7,y7 = zip(*z_upperLeg_l)\n",
    "x8,y8 = zip(*z_lowerLeg_r)\n",
    "x9,y9 = zip(*z_lowerLeg_l)\n",
    "x10,y10 = zip(*z_hands_r)\n",
    "x11,y11 = zip(*z_hands_l)\n",
    "x12,y12 = zip(*z_foot_r)\n",
    "x13,y13 = zip(*z_foot_l)\n",
    "\n",
    "\n",
    "ax.scatter(x0,y0 ,color='lightblue')\n",
    "ax.scatter(x1,y1 ,color='lightblue')\n",
    "ax.scatter(x2,y2 ,color='lightblue')\n",
    "ax.scatter(x3,y3 ,color='lightblue')\n",
    "ax.scatter(x4,y4 ,color='lightblue')\n",
    "ax.scatter(x5,y5 ,color='lightblue')\n",
    "ax.scatter(x6,y6 ,color='lightblue')\n",
    "ax.scatter(x7,y7 ,color='lightblue')\n",
    "ax.scatter(x8,y8 ,color='lightblue')\n",
    "ax.scatter(x9,y9 ,color='lightblue')\n",
    "ax.scatter(x10,y10 ,color='lightblue')\n",
    "ax.scatter(x11,y11 ,color='lightblue')\n",
    "ax.scatter(x12,y12 ,color='lightblue')\n",
    "ax.scatter(x13,y13 ,color='lightblue')\n",
    "\n",
    "\n",
    "ax.plot(x0,y0 , label='neck' , color='blue')\n",
    "ax.plot(x1,y1 , label='upperArm_r' , color='blue')\n",
    "ax.plot(x2,y2 , label='upperArm_l' , color='blue')\n",
    "ax.plot(x3,y3 , label='formerArm_r', color='blue')\n",
    "ax.plot(x4,y4 , label='fomerArm_l' , color='blue')\n",
    "ax.plot(x5,y5 , label='torso' , color='blue')\n",
    "ax.plot(x6,y6 , label='upperLeg_r' , color='blue')\n",
    "ax.plot(x7,y7 , label='upperLeg_l' , color='blue')\n",
    "ax.plot(x8,y8 , label='lowerLeg_r' , color='blue')\n",
    "ax.plot(x9,y9 , label='lowerLeg_l' , color='blue')\n",
    "ax.plot(x10,y10, label='hands_r' , color='blue')\n",
    "ax.plot(x11,y11 , label='hands_l' , color='blue')\n",
    "ax.plot(x12,y12 , label='foot_r' , color='blue')\n",
    "ax.plot(x13,y13 , label='foot_r' , color='blue')\n",
    "\n",
    "ax.set_xlim(300,550)\n",
    "ax.set_ylim(100,240)\n",
    "\n",
    "plt.show()\n"
   ]
  },
  {
   "cell_type": "code",
   "execution_count": null,
   "metadata": {
    "id": "K-g8WvYVSL2k"
   },
   "outputs": [],
   "source": []
  },
  {
   "cell_type": "markdown",
   "metadata": {
    "id": "Ff3eLzfwSL2k"
   },
   "source": [
    "# 複数時間で定義\n"
   ]
  },
  {
   "cell_type": "code",
   "execution_count": 12,
   "metadata": {
    "executionInfo": {
     "elapsed": 243,
     "status": "ok",
     "timestamp": 1624156995275,
     "user": {
      "displayName": "中川恵太",
      "photoUrl": "https://lh3.googleusercontent.com/a-/AOh14GjuadBfe9VQaUTNNPiP_FWM2wUVyahBPjQ7KHtx=s64",
      "userId": "12304208339806120148"
     },
     "user_tz": -540
    },
    "id": "Amo8IM_oSL2l"
   },
   "outputs": [],
   "source": [
    "daitensi_l = np.array( [ data['左大転子:X'] , data['左大転子:Y'] ] )\n",
    "daitensi_r = np.array( [ data['右大転子:X'] , data['右大転子:Y'] ] )\n",
    "knee_r = np.array( [ data['右膝:X'] , data['右膝:Y'] ] )\n",
    "knee_l = np.array( [ data['左膝:X'] , data['左膝:Y'] ] )\n",
    "heel_r = np.array( [ data['右踵:X'] , data['右踵:Y'] ] )\n",
    "heel_l = np.array( [ data['左踵:X'] , data['左踵:Y'] ] )\n",
    "toe_r = np.array( [ data['右爪先:X'] , data['右爪先:Y'] ] )\n",
    "toe_l = np.array( [ data['左爪先:X'] , data['左爪先:Y'] ] )\n",
    "shoulder_r = np.array( [ data['右肩:X'] , data['右肩:Y'] ] )\n",
    "shoulder_l = np.array( [ data['左肩:X'] , data['左肩:Y'] ] )\n",
    "elbow_r = np.array( [ data['右肘:X'] , data['右肘:Y'] ] )\n",
    "elbow_l = np.array( [ data['左肘:X'] , data['左肘:Y'] ] )\n",
    "wrist_r = np.array( [ data['右手首:X'] , data['右手首:Y'] ] )\n",
    "wrist_l = np.array( [ data['左手首:X'] , data['左手首:Y'] ] )\n",
    "hand_r = np.array( [ data['右手先:X'] , data['右手先:Y'] ] )\n",
    "hand_l = np.array( [ data['左手先:X'] , data['左手先:Y'] ] )\n",
    "chest = np.array( [ data['胸骨:X'] , data['胸骨:Y'] ] )\n",
    "body = np.array( [ data['胴部:X'] , data['胴部:Y'] ] )\n",
    "head = np.array( [ data['頭部:X'] , data['頭部:Y'] ] )"
   ]
  },
  {
   "cell_type": "code",
   "execution_count": 13,
   "metadata": {
    "executionInfo": {
     "elapsed": 305,
     "status": "ok",
     "timestamp": 1624156997895,
     "user": {
      "displayName": "中川恵太",
      "photoUrl": "https://lh3.googleusercontent.com/a-/AOh14GjuadBfe9VQaUTNNPiP_FWM2wUVyahBPjQ7KHtx=s64",
      "userId": "12304208339806120148"
     },
     "user_tz": -540
    },
    "id": "Edt7UCe8SL2l"
   },
   "outputs": [],
   "source": [
    "neck = np.array([head , chest]).T\n",
    "upperArm_r = np.array([shoulder_r , elbow_r]).T\n",
    "upperArm_l = np.array([shoulder_l , elbow_l]).T\n",
    "formerArm_r = np.array([elbow_r , wrist_r]).T\n",
    "formerArm_l = np.array([elbow_l , wrist_l]).T\n",
    "torso = np.array([chest , daitensi_r]).T\n",
    "upperLeg_r = np.array([daitensi_r, knee_r]).T\n",
    "upperLeg_l = np.array([daitensi_l , knee_l]).T\n",
    "lowerLeg_r = np.array([knee_r, heel_r]).T\n",
    "lowerLeg_l = np.array([knee_l, heel_l]).T\n",
    "hands_r = np.array([wrist_r , hand_r]).T\n",
    "hands_l = np.array([wrist_l , hand_l]).T\n",
    "foot_r = np.array([heel_r , toe_r]).T\n",
    "foot_l = np.array([heel_l , toe_l]).T"
   ]
  },
  {
   "cell_type": "markdown",
   "metadata": {
    "id": "gmNFLszbSL2m"
   },
   "source": [
    "# アニメーションを作ってみる\n",
    "各セグメントをプロット->animation"
   ]
  },
  {
   "cell_type": "code",
   "execution_count": 15,
   "metadata": {
    "colab": {
     "base_uri": "https://localhost:8080/",
     "height": 902,
     "output_embedded_package_id": "1I5Ae1aWXWHtwgy0mxR1YhN19P5jKxm5C"
    },
    "executionInfo": {
     "elapsed": 54206,
     "status": "ok",
     "timestamp": 1624157132251,
     "user": {
      "displayName": "中川恵太",
      "photoUrl": "https://lh3.googleusercontent.com/a-/AOh14GjuadBfe9VQaUTNNPiP_FWM2wUVyahBPjQ7KHtx=s64",
      "userId": "12304208339806120148"
     },
     "user_tz": -540
    },
    "id": "r7Ylh82QSL2m",
    "outputId": "dfacede8-b227-46bc-a762-f684e3773894"
   },
   "outputs": [
    {
     "data": {
      "text/plain": [
       "Output hidden; open in https://colab.research.google.com to view."
      ]
     },
     "metadata": {},
     "output_type": "display_data"
    }
   ],
   "source": [
    "fig = plt.figure(figsize=(10,6))\n",
    "ims = []\n",
    "\n",
    "plt.title('RunningDigitize')\n",
    "for uAr , fAr, uAl, fAl, t, uLr, lLr, uLl, lLl, hr, hl, fr, fl, n in zip(upperArm_r , formerArm_r , upperArm_l , formerArm_l , torso , upperLeg_r, lowerLeg_r, upperLeg_l, lowerLeg_l, hands_r, hands_l , foot_r, foot_l, neck):\n",
    "    im1 = plt.plot(uAr[0],uAr[1],c='r') #右上腕\n",
    "    im2 = plt.plot(fAr[0],fAr[1],c='r') #右前腕　\n",
    "    im3 = plt.plot(uAl[0],uAl[1],c='r') #左上腕\n",
    "    im4 = plt.plot(fAl[0],fAl[1],c='r') #左前腕\n",
    "    im5 = plt.plot(t[0] , t[1] , c='r') #胴部\n",
    "    im6 = plt.plot(uLr[0],uLr[1],c='r') #右大腿\n",
    "    im7 = plt.plot(lLr[0],lLr[1] , c='r') #右下腿\n",
    "    im8 = plt.plot(uLl[0],uLl[1] , c='r') #左大腿\n",
    "    im9 = plt.plot(lLl[0],lLl[1], c='r') #左下腿\n",
    "    im10 = plt.plot(hr[0],hr[1] , c='r') #右手\n",
    "    im11 = plt.plot(hl[0],hl[1] , c='r') # 左手\n",
    "    im12 = plt.plot(fr[0],fr[1], c='r') # 右足\n",
    "    im13 = plt.plot(fl[0],fl[1], c='r') # 左足\n",
    "    im14 = plt.plot(n[0],n[1], c='r') #首\n",
    "\n",
    "    ims.append(im1 + im2 + im3 + im4 + im5 + im6 + im7 + im8 + im9 + im10 + im11 + im12 + im13 + im14)\n",
    "    \n",
    "ani = animation.ArtistAnimation(fig,ims,interval=50)\n",
    "HTML(ani.to_jshtml())"
   ]
  },
  {
   "cell_type": "markdown",
   "metadata": {
    "id": "Adp8-geGSL2u"
   },
   "source": [
    "\n",
    "# 関節角度を求める"
   ]
  },
  {
   "cell_type": "markdown",
   "metadata": {
    "id": "bzSzojG9SL2v"
   },
   "source": [
    "## とりあえず膝関節角度でやってみる　"
   ]
  },
  {
   "cell_type": "code",
   "execution_count": 16,
   "metadata": {
    "executionInfo": {
     "elapsed": 254,
     "status": "ok",
     "timestamp": 1624157157011,
     "user": {
      "displayName": "中川恵太",
      "photoUrl": "https://lh3.googleusercontent.com/a-/AOh14GjuadBfe9VQaUTNNPiP_FWM2wUVyahBPjQ7KHtx=s64",
      "userId": "12304208339806120148"
     },
     "user_tz": -540
    },
    "id": "Zl1ctMa-SL2v"
   },
   "outputs": [],
   "source": [
    "vec_femur_r = (daitensi_r - knee_r).T #ベクトル右大腿(の二次元配列)\n",
    "vec_crus_r = (heel_r - knee_r).T #ベクトル右下腿(の二次元配列)"
   ]
  },
  {
   "cell_type": "code",
   "execution_count": 17,
   "metadata": {
    "executionInfo": {
     "elapsed": 9,
     "status": "ok",
     "timestamp": 1624157158262,
     "user": {
      "displayName": "中川恵太",
      "photoUrl": "https://lh3.googleusercontent.com/a-/AOh14GjuadBfe9VQaUTNNPiP_FWM2wUVyahBPjQ7KHtx=s64",
      "userId": "12304208339806120148"
     },
     "user_tz": -540
    },
    "id": "C-zNbAuoSL2v"
   },
   "outputs": [],
   "source": [
    "right_knee_deg = []\n",
    "\n",
    "for v1 , v2 in zip(vec_femur_r , vec_crus_r):\n",
    "    i = np.inner(v1 , v2)\n",
    "    n = np.linalg.norm(v1) * np.linalg.norm(v2)\n",
    "    \n",
    "    cos = i / n\n",
    "    right_knee_deg.append(np.rad2deg(np.arccos(cos)))"
   ]
  },
  {
   "cell_type": "code",
   "execution_count": 18,
   "metadata": {
    "colab": {
     "base_uri": "https://localhost:8080/"
    },
    "executionInfo": {
     "elapsed": 16,
     "status": "ok",
     "timestamp": 1624157159518,
     "user": {
      "displayName": "中川恵太",
      "photoUrl": "https://lh3.googleusercontent.com/a-/AOh14GjuadBfe9VQaUTNNPiP_FWM2wUVyahBPjQ7KHtx=s64",
      "userId": "12304208339806120148"
     },
     "user_tz": -540
    },
    "id": "k2kBEDLmSL2w",
    "outputId": "b7e128ee-74b4-438a-c65e-e0e0a54da90a"
   },
   "outputs": [
    {
     "data": {
      "text/plain": [
       "0      23.759209\n",
       "1      23.584953\n",
       "2      22.699119\n",
       "3      21.377558\n",
       "4      21.828880\n",
       "         ...    \n",
       "285    23.478714\n",
       "286    23.307724\n",
       "287    23.584953\n",
       "288    23.505319\n",
       "289    22.388613\n",
       "Length: 290, dtype: float64"
      ]
     },
     "execution_count": 18,
     "metadata": {
      "tags": []
     },
     "output_type": "execute_result"
    }
   ],
   "source": [
    "# ただの検算\n",
    "np.sqrt(np.square(data['右大転子:X'] - data['右膝:X']) + np.square(data['右大転子:Y'] - data['右膝:Y']))"
   ]
  },
  {
   "cell_type": "code",
   "execution_count": 20,
   "metadata": {
    "colab": {
     "base_uri": "https://localhost:8080/",
     "height": 312
    },
    "executionInfo": {
     "elapsed": 840,
     "status": "ok",
     "timestamp": 1624157180960,
     "user": {
      "displayName": "中川恵太",
      "photoUrl": "https://lh3.googleusercontent.com/a-/AOh14GjuadBfe9VQaUTNNPiP_FWM2wUVyahBPjQ7KHtx=s64",
      "userId": "12304208339806120148"
     },
     "user_tz": -540
    },
    "id": "orMDUUFOSL2w",
    "outputId": "dc5e1bb5-3ee9-4324-c33d-7ac3e9c2a67c"
   },
   "outputs": [
    {
     "data": {
      "text/plain": [
       "<matplotlib.legend.Legend at 0x7f1706b6d3d0>"
      ]
     },
     "execution_count": 20,
     "metadata": {
      "tags": []
     },
     "output_type": "execute_result"
    },
    {
     "data": {
      "image/png": "[encoded data removed]",
      "text/plain": [
       "<Figure size 432x288 with 1 Axes>"
      ]
     },
     "metadata": {
      "needs_background": "light",
      "tags": []
     },
     "output_type": "display_data"
    }
   ],
   "source": [
    "plt.plot(data['time'],right_knee_deg, label='right knee')\n",
    "\n",
    "plt.title('Knee Angle')\n",
    "\n",
    "plt.xlabel('Time')\n",
    "plt.ylabel('Deg')\n",
    "\n",
    "plt.legend()"
   ]
  },
  {
   "cell_type": "markdown",
   "metadata": {
    "id": "PZX77L-DSL2x"
   },
   "source": [
    "## 関節角度を求める関数を定義\n",
    "汎用性をもたせる\n",
    "- vec1 -> ndarray [[x,y]]\n",
    "- vec2 -> ndarray [[x,y]]\n",
    "\n",
    "転置済み、時系列順のベクトル２次元配列であることに注意"
   ]
  },
  {
   "cell_type": "code",
   "execution_count": 21,
   "metadata": {
    "executionInfo": {
     "elapsed": 268,
     "status": "ok",
     "timestamp": 1624157194366,
     "user": {
      "displayName": "中川恵太",
      "photoUrl": "https://lh3.googleusercontent.com/a-/AOh14GjuadBfe9VQaUTNNPiP_FWM2wUVyahBPjQ7KHtx=s64",
      "userId": "12304208339806120148"
     },
     "user_tz": -540
    },
    "id": "WDvihWqbSL2x"
   },
   "outputs": [],
   "source": [
    "def tan(vec1 , vec2):\n",
    "    deg = []\n",
    "    for v1 , v2 in zip(vec1,vec2):\n",
    "        i = np.inner(v1 , v2)\n",
    "        n = np.linalg.norm(v1) * np.linalg.norm(v2)\n",
    "        cos = i / n\n",
    "        \n",
    "        deg.append(np.rad2deg(np.arccos(cos)))\n",
    "    return deg"
   ]
  },
  {
   "cell_type": "markdown",
   "metadata": {
    "id": "R1pO9EFkSL2x"
   },
   "source": [
    "### いろいろな関節角度を計算してみよう"
   ]
  },
  {
   "cell_type": "code",
   "execution_count": 23,
   "metadata": {
    "executionInfo": {
     "elapsed": 3,
     "status": "ok",
     "timestamp": 1624157198160,
     "user": {
      "displayName": "中川恵太",
      "photoUrl": "https://lh3.googleusercontent.com/a-/AOh14GjuadBfe9VQaUTNNPiP_FWM2wUVyahBPjQ7KHtx=s64",
      "userId": "12304208339806120148"
     },
     "user_tz": -540
    },
    "id": "CC-8XX89SL2y"
   },
   "outputs": [],
   "source": [
    "# 右膝\n",
    "right_knee_angle = tan(vec_femur_r , vec_crus_r)\n",
    "\n",
    "# 左膝\n",
    "vec_femur_l = (daitensi_l - knee_l).T\n",
    "vec_crus_l = (heel_l - knee_l).T\n",
    "\n",
    "left_knee_angle = tan(vec_femur_l , vec_crus_l)"
   ]
  },
  {
   "cell_type": "code",
   "execution_count": 24,
   "metadata": {
    "colab": {
     "base_uri": "https://localhost:8080/",
     "height": 295
    },
    "executionInfo": {
     "elapsed": 585,
     "status": "ok",
     "timestamp": 1624157199648,
     "user": {
      "displayName": "中川恵太",
      "photoUrl": "https://lh3.googleusercontent.com/a-/AOh14GjuadBfe9VQaUTNNPiP_FWM2wUVyahBPjQ7KHtx=s64",
      "userId": "12304208339806120148"
     },
     "user_tz": -540
    },
    "id": "NtrMR2MKSL2y",
    "outputId": "ba9631b8-9d40-4bcc-b83f-34f050f931b2"
   },
   "outputs": [
    {
     "data": {
      "image/png": "[encoded data removed]",
      "text/plain": [
       "<Figure size 432x288 with 1 Axes>"
      ]
     },
     "metadata": {
      "needs_background": "light",
      "tags": []
     },
     "output_type": "display_data"
    }
   ],
   "source": [
    "plt.plot(data['time'], right_knee_angle , label='right')\n",
    "plt.plot(data['time'], left_knee_angle , label='left' , linestyle='--')\n",
    "\n",
    "plt.title('Knee Angles')\n",
    "plt.xlabel('time')\n",
    "plt.ylabel('angle(deg)')\n",
    "plt.legend()\n",
    "\n",
    "plt.show()"
   ]
  },
  {
   "cell_type": "code",
   "execution_count": 25,
   "metadata": {
    "executionInfo": {
     "elapsed": 224,
     "status": "ok",
     "timestamp": 1624157203265,
     "user": {
      "displayName": "中川恵太",
      "photoUrl": "https://lh3.googleusercontent.com/a-/AOh14GjuadBfe9VQaUTNNPiP_FWM2wUVyahBPjQ7KHtx=s64",
      "userId": "12304208339806120148"
     },
     "user_tz": -540
    },
    "id": "1PTQi8xySL2z"
   },
   "outputs": [],
   "source": [
    "# 右足関節\n",
    "vec_crus_r1 = (knee_r - heel_r).T\n",
    "vec_foot_r = (toe_r - heel_r).T\n",
    "\n",
    "right_foot_angle = tan(vec_crus_r1 , vec_foot_r)\n",
    "\n",
    "# 左足関節\n",
    "vec_crus_l1 = (knee_l - heel_l).T\n",
    "vec_foot_l = (toe_l - heel_l).T\n",
    "\n",
    "left_foot_angle = tan(vec_crus_l1 , vec_foot_l)"
   ]
  },
  {
   "cell_type": "code",
   "execution_count": 26,
   "metadata": {
    "colab": {
     "base_uri": "https://localhost:8080/",
     "height": 295
    },
    "executionInfo": {
     "elapsed": 483,
     "status": "ok",
     "timestamp": 1624157205001,
     "user": {
      "displayName": "中川恵太",
      "photoUrl": "https://lh3.googleusercontent.com/a-/AOh14GjuadBfe9VQaUTNNPiP_FWM2wUVyahBPjQ7KHtx=s64",
      "userId": "12304208339806120148"
     },
     "user_tz": -540
    },
    "id": "7ZqPNpsISL20",
    "outputId": "e10f315a-aaac-4578-904e-8e5e4ad20642"
   },
   "outputs": [
    {
     "data": {
      "image/png": "[encoded data removed]",
      "text/plain": [
       "<Figure size 432x288 with 1 Axes>"
      ]
     },
     "metadata": {
      "needs_background": "light",
      "tags": []
     },
     "output_type": "display_data"
    }
   ],
   "source": [
    "plt.plot(data['time'], right_foot_angle , label='right' ,linestyle='-' , color='lightgreen')\n",
    "plt.plot(data['time'], left_foot_angle , label='left' , linestyle='--' , color='purple')\n",
    "\n",
    "plt.title('Foot Angles')\n",
    "plt.xlabel('time')\n",
    "plt.ylabel('angle(deg)')\n",
    "plt.legend()\n",
    "\n",
    "plt.show()"
   ]
  },
  {
   "cell_type": "code",
   "execution_count": 27,
   "metadata": {
    "executionInfo": {
     "elapsed": 259,
     "status": "ok",
     "timestamp": 1624157208346,
     "user": {
      "displayName": "中川恵太",
      "photoUrl": "https://lh3.googleusercontent.com/a-/AOh14GjuadBfe9VQaUTNNPiP_FWM2wUVyahBPjQ7KHtx=s64",
      "userId": "12304208339806120148"
     },
     "user_tz": -540
    },
    "id": "EHjvn4gQSL20"
   },
   "outputs": [],
   "source": [
    "# 右肘\n",
    "vec_upperArm_r = (shoulder_r - elbow_r).T\n",
    "vec_formerArm_r = (wrist_r - elbow_r).T\n",
    "\n",
    "right_elbow_angle = tan(vec_upperArm_r , vec_formerArm_r)\n",
    "\n",
    "#　左肘\n",
    "vec_upperArm_l = (shoulder_l - elbow_l).T\n",
    "vec_formerArm_l = (wrist_l - elbow_l).T\n",
    "\n",
    "left_elbow_angle = tan(vec_upperArm_l , vec_formerArm_l)"
   ]
  },
  {
   "cell_type": "code",
   "execution_count": 28,
   "metadata": {
    "colab": {
     "base_uri": "https://localhost:8080/",
     "height": 295
    },
    "executionInfo": {
     "elapsed": 442,
     "status": "ok",
     "timestamp": 1624157210153,
     "user": {
      "displayName": "中川恵太",
      "photoUrl": "https://lh3.googleusercontent.com/a-/AOh14GjuadBfe9VQaUTNNPiP_FWM2wUVyahBPjQ7KHtx=s64",
      "userId": "12304208339806120148"
     },
     "user_tz": -540
    },
    "id": "dZ2ZeT2sSL21",
    "outputId": "efb358a4-4ac1-4215-93c0-e1b48bbd4563"
   },
   "outputs": [
    {
     "data": {
      "image/png": "[encoded data removed]",
      "text/plain": [
       "<Figure size 432x288 with 1 Axes>"
      ]
     },
     "metadata": {
      "needs_background": "light",
      "tags": []
     },
     "output_type": "display_data"
    }
   ],
   "source": [
    "plt.plot(data['time'], right_elbow_angle , label='right' ,linestyle='-' , color='darkred')\n",
    "plt.plot(data['time'], left_elbow_angle , label='left' , linestyle='--' , color='blue')\n",
    "\n",
    "plt.title('Elbow Angles')\n",
    "plt.xlabel('time')\n",
    "plt.ylabel('angle(deg)')\n",
    "plt.legend()\n",
    "\n",
    "plt.show()"
   ]
  },
  {
   "cell_type": "markdown",
   "metadata": {
    "id": "FSxWvqlaSL22",
    "jupyter": {
     "source_hidden": true
    }
   },
   "source": [
    "# 部分質量比から身体重心を求める\n",
    "1. 質量中心比(CMR)から各セグメントの身体部分重心(COM)を算出する\n",
    "2. 身体部分重心比から身体重心（COG)を算出する\n",
    "\n",
    "### 用語の説明\n",
    "* 質量中心比(CMR) = Center of Mass Ratio\n",
    "* 身体部分重心(COM) = Center Of Mass\n",
    "* 身体部分重心比(PMR) = Partial Mass Ratio\n",
    "* 身体重心 (COG) = Center Of Gravity\n"
   ]
  },
  {
   "cell_type": "markdown",
   "metadata": {
    "id": "OHOoN7dESL23"
   },
   "source": [
    "## 身体部分重心の求め方\n",
    "- 身体部分重心(COM)= 中枢端 * (1-質量中心比) + 末梢端 * 質量中心比"
   ]
  },
  {
   "cell_type": "code",
   "execution_count": 29,
   "metadata": {
    "executionInfo": {
     "elapsed": 243,
     "status": "ok",
     "timestamp": 1624157226622,
     "user": {
      "displayName": "中川恵太",
      "photoUrl": "https://lh3.googleusercontent.com/a-/AOh14GjuadBfe9VQaUTNNPiP_FWM2wUVyahBPjQ7KHtx=s64",
      "userId": "12304208339806120148"
     },
     "user_tz": -540
    },
    "id": "61Upq8zsSL23"
   },
   "outputs": [],
   "source": [
    "#身体質量中心比(CMR)を定義\n",
    "head_cmr = 0.891 #頭部\n",
    "body_cmr = 0.493 # 胴体\n",
    "upperArm_cmr = 0.529 #上腕\n",
    "formerArm_cmr = 0.415 #前腕\n",
    "upperLeg_cmr = 0.475 #大腿\n",
    "lowerLeg_cmr = 0.406 #下腿\n",
    "hand_cmr = 0.891 #手\n",
    "foot_cmr = 0.595 #足"
   ]
  },
  {
   "cell_type": "code",
   "execution_count": 30,
   "metadata": {
    "executionInfo": {
     "elapsed": 350,
     "status": "ok",
     "timestamp": 1624157228001,
     "user": {
      "displayName": "中川恵太",
      "photoUrl": "https://lh3.googleusercontent.com/a-/AOh14GjuadBfe9VQaUTNNPiP_FWM2wUVyahBPjQ7KHtx=s64",
      "userId": "12304208339806120148"
     },
     "user_tz": -540
    },
    "id": "DELRlkX2SL23"
   },
   "outputs": [],
   "source": [
    "#身体部分重心比(PMR)を定義\n",
    "head_pmr = 0.075\n",
    "body_pmr = 0.457\n",
    "upperArm_pmr = 0.026\n",
    "formerArm_pmr = 0.015\n",
    "upperLeg_pmr = 0.123\n",
    "lowerLeg_pmr = 0.053\n",
    "hand_pmr = 0.006\n",
    "foot_pmr = 0.011"
   ]
  },
  {
   "cell_type": "code",
   "execution_count": 31,
   "metadata": {
    "executionInfo": {
     "elapsed": 245,
     "status": "ok",
     "timestamp": 1624157229788,
     "user": {
      "displayName": "中川恵太",
      "photoUrl": "https://lh3.googleusercontent.com/a-/AOh14GjuadBfe9VQaUTNNPiP_FWM2wUVyahBPjQ7KHtx=s64",
      "userId": "12304208339806120148"
     },
     "user_tz": -540
    },
    "id": "yN7pYOzoSL24"
   },
   "outputs": [],
   "source": [
    "df = data #新たなDataframeを定義"
   ]
  },
  {
   "cell_type": "code",
   "execution_count": 32,
   "metadata": {
    "executionInfo": {
     "elapsed": 259,
     "status": "ok",
     "timestamp": 1624157231287,
     "user": {
      "displayName": "中川恵太",
      "photoUrl": "https://lh3.googleusercontent.com/a-/AOh14GjuadBfe9VQaUTNNPiP_FWM2wUVyahBPjQ7KHtx=s64",
      "userId": "12304208339806120148"
     },
     "user_tz": -540
    },
    "id": "djkGPdehSL24"
   },
   "outputs": [],
   "source": [
    "# 足\n",
    "com_foot_r = toe_r * (1-foot_cmr) + heel_r * foot_cmr\n",
    "com_foot_l = toe_l * (1-foot_cmr) + heel_l * foot_cmr \n",
    "\n",
    "# 下腿\n",
    "com_lowerLeg_r = knee_r * (1-lowerLeg_cmr) + heel_r * lowerLeg_cmr\n",
    "com_lowerLeg_l = knee_l * (1-lowerLeg_cmr) + heel_l * lowerLeg_cmr\n",
    "\n",
    "# 大腿\n",
    "com_upperLeg_r = daitensi_r * (1-upperLeg_cmr) + knee_r * upperLeg_cmr\n",
    "com_upperLeg_l = daitensi_l * (1-upperLeg_cmr) + knee_l * upperLeg_cmr\n",
    "\n",
    "# 上腕\n",
    "com_upperArm_r = shoulder_r * (1-upperArm_cmr) + elbow_r * upperArm_cmr\n",
    "com_upperArm_l = shoulder_l * (1-upperArm_cmr) + elbow_l * upperArm_cmr\n",
    "\n",
    "# 前腕\n",
    "com_formerArm_r = elbow_r * (1-formerArm_cmr) + wrist_r * formerArm_cmr\n",
    "com_formerArm_l = elbow_l * (1-formerArm_cmr) + wrist_l * formerArm_cmr\n",
    "\n",
    "# 手\n",
    "com_hand_r = wrist_r * (1-hand_cmr) + hand_r * hand_cmr\n",
    "com_hand_l = wrist_l * (1-hand_cmr) + hand_l * hand_cmr\n",
    "\n",
    "# 頭\n",
    "com_head = chest * (1-head_cmr) + head * head_cmr\n",
    "\n",
    "# 胴体はなんかそのままあった。\n",
    "com_body = body"
   ]
  },
  {
   "cell_type": "markdown",
   "metadata": {
    "id": "chvFp96rSL24"
   },
   "source": [
    "## 身体重心(COG)を計算\n",
    "**COGの計算方法**\n",
    "- (Σ部分質量比(PMR) * 身体部分重心(COM)座標) / Σ部分質量比(PMR)"
   ]
  },
  {
   "cell_type": "code",
   "execution_count": 33,
   "metadata": {
    "executionInfo": {
     "elapsed": 248,
     "status": "ok",
     "timestamp": 1624157241964,
     "user": {
      "displayName": "中川恵太",
      "photoUrl": "https://lh3.googleusercontent.com/a-/AOh14GjuadBfe9VQaUTNNPiP_FWM2wUVyahBPjQ7KHtx=s64",
      "userId": "12304208339806120148"
     },
     "user_tz": -540
    },
    "id": "Z-YtVwd5SL24"
   },
   "outputs": [],
   "source": [
    "#部分質量比の合計 を計算(２部位あるものは２倍)\n",
    "pmr_sum = head_pmr + body_pmr + 2*upperArm_pmr + 2*formerArm_pmr + 2*upperLeg_pmr + 2*lowerLeg_pmr + 2*hand_pmr + 2*foot_pmr\n",
    "\n",
    "# Mass ratioを計算\n",
    "mr = com_foot_r * foot_pmr +\\\n",
    "      com_foot_l * foot_pmr +\\\n",
    "      com_lowerLeg_r * lowerLeg_pmr +\\\n",
    "      com_lowerLeg_l * lowerLeg_pmr +\\\n",
    "      com_upperLeg_r * upperLeg_pmr +\\\n",
    "      com_upperLeg_l * upperLeg_pmr +\\\n",
    "      com_upperArm_r * upperArm_pmr +\\\n",
    "      com_upperArm_l * upperArm_pmr +\\\n",
    "      com_formerArm_r * formerArm_pmr +\\\n",
    "      com_formerArm_l * formerArm_pmr +\\\n",
    "      com_hand_r * hand_pmr +\\\n",
    "      com_hand_l * hand_pmr +\\\n",
    "      com_head * head_pmr +\\\n",
    "      com_body * body_pmr\n",
    "\n",
    "# COG を計算\n",
    "cog = mr / pmr_sum\n",
    "COG = cog.T #時系列順に[x,y]となるように転置"
   ]
  },
  {
   "cell_type": "code",
   "execution_count": 34,
   "metadata": {
    "colab": {
     "base_uri": "https://localhost:8080/",
     "height": 499
    },
    "executionInfo": {
     "elapsed": 584,
     "status": "ok",
     "timestamp": 1624157243648,
     "user": {
      "displayName": "中川恵太",
      "photoUrl": "https://lh3.googleusercontent.com/a-/AOh14GjuadBfe9VQaUTNNPiP_FWM2wUVyahBPjQ7KHtx=s64",
      "userId": "12304208339806120148"
     },
     "user_tz": -540
    },
    "id": "rjs9M0HjSL25",
    "outputId": "d5a1354c-e0b8-4adf-cdde-017cc3ba7cd5"
   },
   "outputs": [
    {
     "data": {
      "image/png": "[encoded data removed]",
      "text/plain": [
       "<Figure size 864x576 with 1 Axes>"
      ]
     },
     "metadata": {
      "needs_background": "light",
      "tags": []
     },
     "output_type": "display_data"
    }
   ],
   "source": [
    "fig , ax = plt.subplots(figsize=(12 ,8))\n",
    "x0,y0 = zip(*z_neck)\n",
    "x1,y1 = zip(*z_upperArm_r)\n",
    "x2,y2 = zip(*z_upperArm_l)\n",
    "x3,y3 = zip(*z_formerArm_r)\n",
    "x4,y4 = zip(*z_formerArm_l)\n",
    "x5,y5 = zip(*z_torso)\n",
    "x6,y6 = zip(*z_upperLeg_r)\n",
    "x7,y7 = zip(*z_upperLeg_l)\n",
    "x8,y8 = zip(*z_lowerLeg_r)\n",
    "x9,y9 = zip(*z_lowerLeg_l)\n",
    "x10,y10 = zip(*z_hands_r)\n",
    "x11,y11 = zip(*z_hands_l)\n",
    "x12,y12 = zip(*z_foot_r)\n",
    "x13,y13 = zip(*z_foot_l)\n",
    "\n",
    "\n",
    "ax.scatter(x0,y0 ,color='lightblue')\n",
    "ax.scatter(x1,y1 ,color='lightblue')\n",
    "ax.scatter(x2,y2 ,color='lightblue')\n",
    "ax.scatter(x3,y3 ,color='lightblue')\n",
    "ax.scatter(x4,y4 ,color='lightblue')\n",
    "ax.scatter(x5,y5 ,color='lightblue')\n",
    "ax.scatter(x6,y6 ,color='lightblue')\n",
    "ax.scatter(x7,y7 ,color='lightblue')\n",
    "ax.scatter(x8,y8 ,color='lightblue')\n",
    "ax.scatter(x9,y9 ,color='lightblue')\n",
    "ax.scatter(x10,y10 ,color='lightblue')\n",
    "ax.scatter(x11,y11 ,color='lightblue')\n",
    "ax.scatter(x12,y12 ,color='lightblue')\n",
    "ax.scatter(x13,y13 ,color='lightblue')\n",
    "\n",
    "\n",
    "ax.plot(x0,y0 , label='neck' , color='blue')\n",
    "ax.plot(x1,y1 , label='upperArm_r' , color='blue')\n",
    "ax.plot(x2,y2 , label='upperArm_l' , color='blue')\n",
    "ax.plot(x3,y3 , label='formerArm_r', color='blue')\n",
    "ax.plot(x4,y4 , label='fomerArm_l' , color='blue')\n",
    "ax.plot(x5,y5 , label='torso' , color='blue')\n",
    "ax.plot(x6,y6 , label='upperLeg_r' , color='blue')\n",
    "ax.plot(x7,y7 , label='upperLeg_l' , color='blue')\n",
    "ax.plot(x8,y8 , label='lowerLeg_r' , color='blue')\n",
    "ax.plot(x9,y9 , label='lowerLeg_l' , color='blue')\n",
    "ax.plot(x10,y10, label='hands_r' , color='blue')\n",
    "ax.plot(x11,y11 , label='hands_l' , color='blue')\n",
    "ax.plot(x12,y12 , label='foot_r' , color='blue')\n",
    "ax.plot(x13,y13 , label='foot_r' , color='blue')\n",
    "\n",
    "#部分重心も描画\n",
    "ax.scatter(com_upperLeg_r.T[0][0], com_upperLeg_r.T[0][1], color='red' , marker='v', s=50)\n",
    "ax.scatter(com_lowerLeg_r.T[0][0], com_lowerLeg_r.T[0][1], color='red' , marker='v', s=50)\n",
    "ax.scatter(com_upperLeg_l.T[0][0], com_upperLeg_l.T[0][1], color='red' , marker='v', s=50)\n",
    "ax.scatter(com_lowerLeg_l.T[0][0], com_lowerLeg_l.T[0][1], color='red' , marker='v', s=50)\n",
    "ax.scatter(com_upperArm_r.T[0][0], com_upperArm_r.T[0][1], color='red' , marker='v', s=50)\n",
    "ax.scatter(com_formerArm_r.T[0][0], com_formerArm_r.T[0][1], color='red' , marker='v', s=50)\n",
    "ax.scatter(com_upperArm_l.T[0][0], com_upperArm_l.T[0][1], color='red' , marker='v', s=50)\n",
    "ax.scatter(com_formerArm_l.T[0][0], com_formerArm_l.T[0][1], color='red' , marker='v', s=50)\n",
    "ax.scatter(com_hand_r.T[0][0], com_hand_r.T[0][1], color='red' , marker='v', s=50)\n",
    "ax.scatter(com_hand_l.T[0][0], com_hand_l.T[0][1], color='red' , marker='v', s=50)\n",
    "ax.scatter(com_foot_l.T[0][0], com_foot_l.T[0][1], color='red' , marker='v', s=50)\n",
    "ax.scatter(com_foot_r.T[0][0], com_foot_r.T[0][1], color='red' , marker='v', s=50)\n",
    "ax.scatter(com_head.T[0][0], com_head.T[0][1], color='red' , marker='v', s=50)\n",
    "ax.scatter(body.T[0][0] , body.T[0][1] , color='red', marker='v' ,s=50)\n",
    "\n",
    "# COG\n",
    "ax.scatter(COG[0][0], COG[0][1] , color='green' , marker='s' , s=150 , label='cog')\n",
    "\n",
    "ax.set_xlim(300,550)\n",
    "ax.set_ylim(100,240)\n",
    "\n",
    "plt.title('0second')\n",
    "plt.show()"
   ]
  },
  {
   "cell_type": "code",
   "execution_count": null,
   "metadata": {
    "collapsed": true,
    "id": "bYOyGMufSL25",
    "jupyter": {
     "outputs_hidden": true
    }
   },
   "outputs": [],
   "source": []
  },
  {
   "cell_type": "markdown",
   "metadata": {
    "id": "Rzz3LLKnSL26"
   },
   "source": [
    "# 身体重心も含めてアニメーション\n"
   ]
  },
  {
   "cell_type": "code",
   "execution_count": 35,
   "metadata": {
    "colab": {
     "base_uri": "https://localhost:8080/",
     "height": 902,
     "output_embedded_package_id": "1f6HhsQO6cxEl2KH5e-ut-hxIzGdZGjwp"
    },
    "executionInfo": {
     "elapsed": 67895,
     "status": "ok",
     "timestamp": 1624157320198,
     "user": {
      "displayName": "中川恵太",
      "photoUrl": "https://lh3.googleusercontent.com/a-/AOh14GjuadBfe9VQaUTNNPiP_FWM2wUVyahBPjQ7KHtx=s64",
      "userId": "12304208339806120148"
     },
     "user_tz": -540
    },
    "id": "gtuI8TkGSL26",
    "outputId": "e04c28b7-8e7c-4907-8fd8-d674c7447643"
   },
   "outputs": [
    {
     "data": {
      "text/plain": [
       "Output hidden; open in https://colab.research.google.com to view."
      ]
     },
     "metadata": {},
     "output_type": "display_data"
    }
   ],
   "source": [
    "fig = plt.figure(figsize=(10,6))\n",
    "ims = []\n",
    "\n",
    "plt.title('RunningDigitize')\n",
    "for uAr , fAr, uAl, fAl, t, uLr, lLr, uLl, lLl, hr, hl, fr, fl, n , cog in zip(upperArm_r , formerArm_r , upperArm_l , formerArm_l , torso , upperLeg_r, lowerLeg_r, upperLeg_l, lowerLeg_l, hands_r, hands_l , foot_r, foot_l, neck, COG):\n",
    "    im1 = plt.plot(uAr[0],uAr[1],c='r') #右上腕\n",
    "    im2 = plt.plot(fAr[0],fAr[1],c='r') #右前腕　\n",
    "    im3 = plt.plot(uAl[0],uAl[1],c='r') #左上腕\n",
    "    im4 = plt.plot(fAl[0],fAl[1],c='r') #左前腕\n",
    "    im5 = plt.plot(t[0] , t[1] , c='r') #胴部\n",
    "    im6 = plt.plot(uLr[0],uLr[1],c='r') #右大腿\n",
    "    im7 = plt.plot(lLr[0],lLr[1] , c='r') #右下腿\n",
    "    im8 = plt.plot(uLl[0],uLl[1] , c='r') #左大腿\n",
    "    im9 = plt.plot(lLl[0],lLl[1], c='r') #右下腿\n",
    "    im10 = plt.plot(hr[0],hr[1] , c='r') #右手\n",
    "    im11 = plt.plot(hl[0],hl[1] , c='r') # 左手\n",
    "    im12 = plt.plot(fr[0],fr[1], c='r') # 右足\n",
    "    im13 = plt.plot(fl[0],fl[1], c='r') # 左足\n",
    "    im14 = plt.plot(n[0],n[1], c='r') #首\n",
    "    cog =  plt.scatter(cog[0], cog[1] , color='green' , marker='s' , s=150 , label='cog')\n",
    "    \n",
    "    ims.append(im1 + im2 + im3 + im4 + im5 + im6 + im7 + im8 + im9 + im10 + im11 + im12 + im13 + im14 + [cog])\n",
    "    \n",
    "ani = animation.ArtistAnimation(fig,ims,interval=50)\n",
    "HTML(ani.to_jshtml())\n"
   ]
  },
  {
   "cell_type": "code",
   "execution_count": null,
   "metadata": {
    "id": "bqxQzA3tUOkD"
   },
   "outputs": [],
   "source": []
  }
 ],
 "metadata": {
  "colab": {
   "name": "RunnningAnalyze.ipynb",
   "provenance": []
  },
  "kernelspec": {
   "display_name": "Python 3",
   "language": "python",
   "name": "python3"
  },
  "language_info": {
   "codemirror_mode": {
    "name": "ipython",
    "version": 3
   },
   "file_extension": ".py",
   "mimetype": "text/x-python",
   "name": "python",
   "nbconvert_exporter": "python",
   "pygments_lexer": "ipython3",
   "version": "3.6.6+"
  }
 },
 "nbformat": 4,
 "nbformat_minor": 1
}
